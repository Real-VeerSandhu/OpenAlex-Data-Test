{
 "cells": [
  {
   "cell_type": "markdown",
   "metadata": {},
   "source": [
    "# Imports"
   ]
  },
  {
   "cell_type": "code",
   "execution_count": 1,
   "metadata": {},
   "outputs": [],
   "source": [
    "import requests\n",
    "import pandas as pd"
   ]
  },
  {
   "cell_type": "markdown",
   "metadata": {},
   "source": [
    "### API Docs Tutorial"
   ]
  },
  {
   "cell_type": "code",
   "execution_count": 2,
   "metadata": {},
   "outputs": [],
   "source": [
    "institution = requests.get('https://api.openalex.org/institutions?filter=display_name.search:university of florida').json()['results'][0]"
   ]
  },
  {
   "cell_type": "code",
   "execution_count": 3,
   "metadata": {},
   "outputs": [
    {
     "data": {
      "text/plain": [
       "'University of Florida'"
      ]
     },
     "execution_count": 3,
     "metadata": {},
     "output_type": "execute_result"
    }
   ],
   "source": [
    "institution['display_name']"
   ]
  },
  {
   "cell_type": "code",
   "execution_count": 9,
   "metadata": {},
   "outputs": [
    {
     "data": {
      "text/plain": [
       "'https://openalex.org/I33213144'"
      ]
     },
     "execution_count": 9,
     "metadata": {},
     "output_type": "execute_result"
    }
   ],
   "source": [
    "institution['id'] # starting with I = Institution"
   ]
  },
  {
   "cell_type": "code",
   "execution_count": 5,
   "metadata": {},
   "outputs": [
    {
     "data": {
      "text/plain": [
       "'2016-06-24'"
      ]
     },
     "execution_count": 5,
     "metadata": {},
     "output_type": "execute_result"
    }
   ],
   "source": [
    "institution['created_date']"
   ]
  },
  {
   "cell_type": "markdown",
   "metadata": {},
   "source": [
    "Filters:\n",
    "- institutions.id:https://openalex.org/I33213144\n",
    "- is_paratext:false\n",
    "- type:journal-article\n",
    "- from_publication_date:2012-04-20"
   ]
  },
  {
   "cell_type": "code",
   "execution_count": 8,
   "metadata": {},
   "outputs": [
    {
     "name": "stdout",
     "output_type": "stream",
     "text": [
      "57116\n"
     ]
    }
   ],
   "source": [
    "# filtered request\n",
    "response_meta = requests.get(\n",
    "    'https://api.openalex.org/works?filter=institutions.id:https://openalex.org/I33213144,is_paratext:false,type:journal-article,from_publication_date:2012-04-20'\n",
    ").json()['meta']\n",
    "\n",
    "print(response_meta['count'])"
   ]
  },
  {
   "cell_type": "code",
   "execution_count": 10,
   "metadata": {},
   "outputs": [
    {
     "name": "stdout",
     "output_type": "stream",
     "text": [
      "total works: 57115\n",
      "free works: 31141\n",
      "free works percentage: 54.523330\n"
     ]
    }
   ],
   "source": [
    "# same as above but with OA filter\n",
    "r = requests.get(\n",
    "    'https://api.openalex.org/works?filter=institutions.id:https://openalex.org/I33213144,is_paratext:false,type:journal-article,from_publication_date:2012-04-20&group_by=is_oa'\n",
    ") \n",
    "\n",
    "groups = r.json()['group_by']\n",
    "total_works = 0\n",
    "oa_works = 0\n",
    "\n",
    "# look through groups to find # of free works\n",
    "for group in groups:\n",
    "    total_works += group['count']\n",
    "    if group['key'] == 'true':\n",
    "            oa_works += group['count']\n",
    "\n",
    "print('total works: %d' % total_works)\n",
    "print('free works: %d' % oa_works)\n",
    "print('free works percentage: %f' % (100 * oa_works/total_works))"
   ]
  },
  {
   "cell_type": "markdown",
   "metadata": {},
   "source": [
    "### Other Exploring"
   ]
  },
  {
   "cell_type": "code",
   "execution_count": 31,
   "metadata": {},
   "outputs": [
    {
     "data": {
      "text/plain": [
       "1189"
      ]
     },
     "execution_count": 31,
     "metadata": {},
     "output_type": "execute_result"
    }
   ],
   "source": [
    "requests.get('https://api.openalex.org/works?filter=concepts.id:C2780549722').json()['meta']['count'] # concept = Nucleoside Transporter count"
   ]
  },
  {
   "cell_type": "code",
   "execution_count": 34,
   "metadata": {},
   "outputs": [
    {
     "data": {
      "text/plain": [
       "771954"
      ]
     },
     "execution_count": 34,
     "metadata": {},
     "output_type": "execute_result"
    }
   ],
   "source": [
    "requests.get('https://api.openalex.org/works?filter=concepts.id:C119857082').json()['meta']['count'] # concept = Machine Learning count"
   ]
  },
  {
   "cell_type": "code",
   "execution_count": 35,
   "metadata": {},
   "outputs": [
    {
     "data": {
      "text/plain": [
       "{'count': 65073, 'db_response_time_ms': 27, 'page': 1, 'per_page': 25}"
      ]
     },
     "execution_count": 35,
     "metadata": {},
     "output_type": "execute_result"
    }
   ],
   "source": [
    "requests.get('https://api.openalex.org/concepts').json()['meta'] # number of ALL CONCEPTS"
   ]
  },
  {
   "cell_type": "code",
   "execution_count": 40,
   "metadata": {},
   "outputs": [
    {
     "data": {
      "text/plain": [
       "111194"
      ]
     },
     "execution_count": 40,
     "metadata": {},
     "output_type": "execute_result"
    }
   ],
   "source": [
    "requests.get('https://api.openalex.org/authors?filter=works_count:>250').json()['meta']['count'] # number of authors with over 250 works"
   ]
  },
  {
   "cell_type": "code",
   "execution_count": 41,
   "metadata": {},
   "outputs": [
    {
     "data": {
      "text/plain": [
       "710"
      ]
     },
     "execution_count": 41,
     "metadata": {},
     "output_type": "execute_result"
    }
   ],
   "source": [
    "requests.get('https://api.openalex.org/institutions?filter=works_count:>30000').json()['meta']['count'] # number of instituions with over 30000 works"
   ]
  },
  {
   "cell_type": "code",
   "execution_count": 58,
   "metadata": {},
   "outputs": [
    {
     "name": "stdout",
     "output_type": "stream",
     "text": [
      "https://openalex.org/I185261750\n",
      "https://openalex.org/I151746483\n",
      "https://openalex.org/I141945490\n"
     ]
    }
   ],
   "source": [
    "r_i1 = requests.get('https://api.openalex.org/institutions?filter=display_name.search:university of toronto').json()['results'][0]['id']\n",
    "r_i2 = requests.get('https://api.openalex.org/institutions?filter=display_name.search:university of waterloo').json()['results'][0]['id']\n",
    "r_i3 = requests.get('https://api.openalex.org/institutions?filter=display_name.search:University of british columbia').json()['results'][0]['id']\n",
    "\n",
    "ids = [r_i1, r_i2, r_i3]\n",
    "\n",
    "for id in ids:\n",
    "    print(id)"
   ]
  },
  {
   "cell_type": "code",
   "execution_count": null,
   "metadata": {},
   "outputs": [],
   "source": [
    "requests.get('https://api.openalex.org/institutions?filter=display_name.search:university of toronto')\n"
   ]
  },
  {
   "cell_type": "code",
   "execution_count": 80,
   "metadata": {},
   "outputs": [],
   "source": [
    "def institution_comparision(name_1, name_2):\n",
    "    '''Compare 2 institutions given their display names'''\n",
    "    r_1 = requests.get(f'https://api.openalex.org/institutions?filter=display_name.search:{name_1}').json()['results'][0]\n",
    "    r_2 = requests.get(f'https://api.openalex.org/institutions?filter=display_name.search:{name_2}').json()['results'][0]\n",
    "\n",
    "    print('='*35)\n",
    "    print(r_1['display_name'], r_1['homepage_url'])\n",
    "    print('ID:', r_1['id'])\n",
    "    print('Instituion Type:', r_1['type'])\n",
    "    print('Location:', r_1['geo']['city'], r_1['geo']['country'])\n",
    "    print('Number of Works:', r_1['works_count'])\n",
    "    print('Number of Citation Appearances:', r_1['cited_by_count'], '\\n')\n",
    "\n",
    "    print('='*35)\n",
    "    print(r_2['display_name'], r_2['homepage_url'])\n",
    "    print('ID:', r_2['id'])\n",
    "    print('Instituion Type:', r_2['type'])\n",
    "    print('Location:', r_2['geo']['city'], r_2['geo']['country'])\n",
    "    print('Number of Works:', r_2['works_count'])\n",
    "    print('Number of Citation Appearances:', r_2['cited_by_count'])"
   ]
  },
  {
   "cell_type": "code",
   "execution_count": 81,
   "metadata": {},
   "outputs": [
    {
     "name": "stdout",
     "output_type": "stream",
     "text": [
      "===================================\n",
      "University of Toronto http://www.utoronto.ca/\n",
      "ID: https://openalex.org/I185261750\n",
      "Instituion Type: education\n",
      "Location: Toronto Canada\n",
      "Number of Works: 283055\n",
      "Number of Citation Appearances: 22902599 \n",
      "\n",
      "===================================\n",
      "University of Waterloo https://uwaterloo.ca/\n",
      "ID: https://openalex.org/I151746483\n",
      "Instituion Type: education\n",
      "Location: Waterloo Canada\n",
      "Number of Works: 101984\n",
      "Number of Citation Appearances: 4851556\n"
     ]
    }
   ],
   "source": [
    "institution_comparision('university of toronto', 'university of waterloo')"
   ]
  },
  {
   "cell_type": "code",
   "execution_count": 86,
   "metadata": {},
   "outputs": [],
   "source": [
    "test1 = requests.get('https://api.openalex.org/institutions?filter=display_name.search:university of toronto').json()['results'][0]"
   ]
  },
  {
   "cell_type": "code",
   "execution_count": 87,
   "metadata": {},
   "outputs": [
    {
     "data": {
      "text/plain": [
       "dict"
      ]
     },
     "execution_count": 87,
     "metadata": {},
     "output_type": "execute_result"
    }
   ],
   "source": [
    "type(test1)"
   ]
  },
  {
   "cell_type": "code",
   "execution_count": 109,
   "metadata": {},
   "outputs": [],
   "source": [
    "def test_func(name_1, name_2):\n",
    "    '''Compare 2 institutions given their display names'''\n",
    "    r_1 = requests.get(f'https://api.openalex.org/institutions?filter=display_name.search:{name_1}').json()['results'][0]\n",
    "    r_2 = requests.get(f'https://api.openalex.org/institutions?filter=display_name.search:{name_2}').json()['results'][0]\n",
    "\n",
    "    keys_1 = list(r_1.keys())\n",
    "    keys_1.remove('international')\n",
    "    keys_1.remove('associated_institutions')\n",
    "    keys_1.remove('counts_by_year')\n",
    "\n",
    "    keys_2 = list(r_2.keys())\n",
    "    keys_2.remove('international')\n",
    "    keys_2.remove('associated_institutions')\n",
    "    keys_2.remove('counts_by_year')\n",
    "\n",
    "    print('='*35)\n",
    "    for key in keys_1:\n",
    "        print(key, '->',r_1[key])\n",
    "\n",
    "    print('='*35)\n",
    "    for key in keys_2:\n",
    "        print(key, '->',keys_2[key])"
   ]
  }
 ],
 "metadata": {
  "kernelspec": {
   "display_name": "Python 3.8.12 ('main_env1')",
   "language": "python",
   "name": "python3"
  },
  "language_info": {
   "codemirror_mode": {
    "name": "ipython",
    "version": 3
   },
   "file_extension": ".py",
   "mimetype": "text/x-python",
   "name": "python",
   "nbconvert_exporter": "python",
   "pygments_lexer": "ipython3",
   "version": "3.8.12"
  },
  "orig_nbformat": 4,
  "vscode": {
   "interpreter": {
    "hash": "b719890b3c769ab08ff18901591167cccb1fa09ee46a540c961e8deed66fd577"
   }
  }
 },
 "nbformat": 4,
 "nbformat_minor": 2
}
