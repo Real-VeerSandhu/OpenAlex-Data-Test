{
 "cells": [
  {
   "cell_type": "markdown",
   "metadata": {},
   "source": [
    "# Imports"
   ]
  },
  {
   "cell_type": "code",
   "execution_count": 1,
   "metadata": {},
   "outputs": [],
   "source": [
    "import requests\n",
    "import pandas as pd"
   ]
  },
  {
   "cell_type": "markdown",
   "metadata": {},
   "source": [
    "### API Docs Tutorial"
   ]
  },
  {
   "cell_type": "code",
   "execution_count": 2,
   "metadata": {},
   "outputs": [],
   "source": [
    "institution = requests.get('https://api.openalex.org/institutions?filter=display_name.search:university of florida').json()['results'][0]"
   ]
  },
  {
   "cell_type": "code",
   "execution_count": 3,
   "metadata": {},
   "outputs": [
    {
     "data": {
      "text/plain": [
       "'University of Florida'"
      ]
     },
     "execution_count": 3,
     "metadata": {},
     "output_type": "execute_result"
    }
   ],
   "source": [
    "institution['display_name']"
   ]
  },
  {
   "cell_type": "code",
   "execution_count": 9,
   "metadata": {},
   "outputs": [
    {
     "data": {
      "text/plain": [
       "'https://openalex.org/I33213144'"
      ]
     },
     "execution_count": 9,
     "metadata": {},
     "output_type": "execute_result"
    }
   ],
   "source": [
    "institution['id'] # starting with I = Institution"
   ]
  },
  {
   "cell_type": "code",
   "execution_count": 5,
   "metadata": {},
   "outputs": [
    {
     "data": {
      "text/plain": [
       "'2016-06-24'"
      ]
     },
     "execution_count": 5,
     "metadata": {},
     "output_type": "execute_result"
    }
   ],
   "source": [
    "institution['created_date']"
   ]
  },
  {
   "cell_type": "markdown",
   "metadata": {},
   "source": [
    "Filters:\n",
    "- institutions.id:https://openalex.org/I33213144\n",
    "- is_paratext:false\n",
    "- type:journal-article\n",
    "- from_publication_date:2012-04-20"
   ]
  },
  {
   "cell_type": "code",
   "execution_count": 8,
   "metadata": {},
   "outputs": [
    {
     "name": "stdout",
     "output_type": "stream",
     "text": [
      "57116\n"
     ]
    }
   ],
   "source": [
    "# filtered request\n",
    "response_meta = requests.get(\n",
    "    'https://api.openalex.org/works?filter=institutions.id:https://openalex.org/I33213144,is_paratext:false,type:journal-article,from_publication_date:2012-04-20'\n",
    ").json()['meta']\n",
    "\n",
    "print(response_meta['count'])"
   ]
  },
  {
   "cell_type": "code",
   "execution_count": 10,
   "metadata": {},
   "outputs": [
    {
     "name": "stdout",
     "output_type": "stream",
     "text": [
      "total works: 57115\n",
      "free works: 31141\n",
      "free works percentage: 54.523330\n"
     ]
    }
   ],
   "source": [
    "# same as above but with OA filter\n",
    "r = requests.get(\n",
    "    'https://api.openalex.org/works?filter=institutions.id:https://openalex.org/I33213144,is_paratext:false,type:journal-article,from_publication_date:2012-04-20&group_by=is_oa'\n",
    ") \n",
    "\n",
    "groups = r.json()['group_by']\n",
    "total_works = 0\n",
    "oa_works = 0\n",
    "\n",
    "# look through groups to find # of free works\n",
    "for group in groups:\n",
    "    total_works += group['count']\n",
    "    if group['key'] == 'true':\n",
    "            oa_works += group['count']\n",
    "\n",
    "print('total works: %d' % total_works)\n",
    "print('free works: %d' % oa_works)\n",
    "print('free works percentage: %f' % (100 * oa_works/total_works))"
   ]
  },
  {
   "cell_type": "markdown",
   "metadata": {},
   "source": [
    "### Other Exploring"
   ]
  },
  {
   "cell_type": "code",
   "execution_count": 31,
   "metadata": {},
   "outputs": [
    {
     "data": {
      "text/plain": [
       "1189"
      ]
     },
     "execution_count": 31,
     "metadata": {},
     "output_type": "execute_result"
    }
   ],
   "source": [
    "requests.get('https://api.openalex.org/works?filter=concepts.id:C2780549722').json()['meta']['count'] # concept = Nucleoside Transporter count"
   ]
  },
  {
   "cell_type": "code",
   "execution_count": 34,
   "metadata": {},
   "outputs": [
    {
     "data": {
      "text/plain": [
       "771954"
      ]
     },
     "execution_count": 34,
     "metadata": {},
     "output_type": "execute_result"
    }
   ],
   "source": [
    "requests.get('https://api.openalex.org/works?filter=concepts.id:C119857082').json()['meta']['count'] # concept = Machine Learning count"
   ]
  },
  {
   "cell_type": "code",
   "execution_count": 35,
   "metadata": {},
   "outputs": [
    {
     "data": {
      "text/plain": [
       "{'count': 65073, 'db_response_time_ms': 27, 'page': 1, 'per_page': 25}"
      ]
     },
     "execution_count": 35,
     "metadata": {},
     "output_type": "execute_result"
    }
   ],
   "source": [
    "requests.get('https://api.openalex.org/concepts').json()['meta'] # number of ALL CONCEPTS"
   ]
  },
  {
   "cell_type": "code",
   "execution_count": 40,
   "metadata": {},
   "outputs": [
    {
     "data": {
      "text/plain": [
       "111194"
      ]
     },
     "execution_count": 40,
     "metadata": {},
     "output_type": "execute_result"
    }
   ],
   "source": [
    "requests.get('https://api.openalex.org/authors?filter=works_count:>250').json()['meta']['count'] # number of authors with over 250 works"
   ]
  },
  {
   "cell_type": "code",
   "execution_count": 41,
   "metadata": {},
   "outputs": [
    {
     "data": {
      "text/plain": [
       "710"
      ]
     },
     "execution_count": 41,
     "metadata": {},
     "output_type": "execute_result"
    }
   ],
   "source": [
    "requests.get('https://api.openalex.org/institutions?filter=works_count:>30000').json()['meta']['count'] # number of instituions with over 30000 works"
   ]
  },
  {
   "cell_type": "code",
   "execution_count": 58,
   "metadata": {},
   "outputs": [
    {
     "name": "stdout",
     "output_type": "stream",
     "text": [
      "https://openalex.org/I185261750\n",
      "https://openalex.org/I151746483\n",
      "https://openalex.org/I141945490\n"
     ]
    }
   ],
   "source": [
    "r_i1 = requests.get('https://api.openalex.org/institutions?filter=display_name.search:university of toronto').json()['results'][0]['id']\n",
    "r_i2 = requests.get('https://api.openalex.org/institutions?filter=display_name.search:university of waterloo').json()['results'][0]['id']\n",
    "r_i3 = requests.get('https://api.openalex.org/institutions?filter=display_name.search:University of british columbia').json()['results'][0]['id']\n",
    "\n",
    "ids = [r_i1, r_i2, r_i3]\n",
    "\n",
    "for id in ids:\n",
    "    print(id)"
   ]
  },
  {
   "cell_type": "code",
   "execution_count": null,
   "metadata": {},
   "outputs": [],
   "source": [
    "requests.get('https://api.openalex.org/institutions?filter=display_name.search:university of toronto')\n"
   ]
  },
  {
   "cell_type": "code",
   "execution_count": 80,
   "metadata": {},
   "outputs": [],
   "source": [
    "def institution_comparision(name_1, name_2):\n",
    "    '''Compare 2 institutions given their display names'''\n",
    "    r_1 = requests.get(f'https://api.openalex.org/institutions?filter=display_name.search:{name_1}').json()['results'][0]\n",
    "    r_2 = requests.get(f'https://api.openalex.org/institutions?filter=display_name.search:{name_2}').json()['results'][0]\n",
    "\n",
    "    print('='*35)\n",
    "    print(r_1['display_name'], r_1['homepage_url'])\n",
    "    print('ID:', r_1['id'])\n",
    "    print('Instituion Type:', r_1['type'])\n",
    "    print('Location:', r_1['geo']['city'], r_1['geo']['country'])\n",
    "    print('Number of Works:', r_1['works_count'])\n",
    "    print('Number of Citation Appearances:', r_1['cited_by_count'], '\\n')\n",
    "\n",
    "    print('='*35)\n",
    "    print(r_2['display_name'], r_2['homepage_url'])\n",
    "    print('ID:', r_2['id'])\n",
    "    print('Instituion Type:', r_2['type'])\n",
    "    print('Location:', r_2['geo']['city'], r_2['geo']['country'])\n",
    "    print('Number of Works:', r_2['works_count'])\n",
    "    print('Number of Citation Appearances:', r_2['cited_by_count'])"
   ]
  },
  {
   "cell_type": "code",
   "execution_count": 81,
   "metadata": {},
   "outputs": [
    {
     "name": "stdout",
     "output_type": "stream",
     "text": [
      "===================================\n",
      "University of Toronto http://www.utoronto.ca/\n",
      "ID: https://openalex.org/I185261750\n",
      "Instituion Type: education\n",
      "Location: Toronto Canada\n",
      "Number of Works: 283055\n",
      "Number of Citation Appearances: 22902599 \n",
      "\n",
      "===================================\n",
      "University of Waterloo https://uwaterloo.ca/\n",
      "ID: https://openalex.org/I151746483\n",
      "Instituion Type: education\n",
      "Location: Waterloo Canada\n",
      "Number of Works: 101984\n",
      "Number of Citation Appearances: 4851556\n"
     ]
    }
   ],
   "source": [
    "institution_comparision('university of toronto', 'university of waterloo')"
   ]
  },
  {
   "cell_type": "code",
   "execution_count": 86,
   "metadata": {},
   "outputs": [],
   "source": [
    "test1 = requests.get('https://api.openalex.org/institutions?filter=display_name.search:university of toronto').json()['results'][0]"
   ]
  },
  {
   "cell_type": "code",
   "execution_count": 87,
   "metadata": {},
   "outputs": [
    {
     "data": {
      "text/plain": [
       "dict"
      ]
     },
     "execution_count": 87,
     "metadata": {},
     "output_type": "execute_result"
    }
   ],
   "source": [
    "type(test1)"
   ]
  },
  {
   "cell_type": "code",
   "execution_count": 109,
   "metadata": {},
   "outputs": [],
   "source": [
    "def test_func(name_1, name_2):\n",
    "    '''Compare 2 institutions given their display names'''\n",
    "    r_1 = requests.get(f'https://api.openalex.org/institutions?filter=display_name.search:{name_1}').json()['results'][0]\n",
    "    r_2 = requests.get(f'https://api.openalex.org/institutions?filter=display_name.search:{name_2}').json()['results'][0]\n",
    "\n",
    "    keys_1 = list(r_1.keys())\n",
    "    keys_1.remove('international')\n",
    "    keys_1.remove('associated_institutions')\n",
    "    keys_1.remove('counts_by_year')\n",
    "\n",
    "    keys_2 = list(r_2.keys())\n",
    "    keys_2.remove('international')\n",
    "    keys_2.remove('associated_institutions')\n",
    "    keys_2.remove('counts_by_year')\n",
    "\n",
    "    print('='*35)\n",
    "    for key in keys_1:\n",
    "        print(key, '->',r_1[key])\n",
    "\n",
    "    print('='*35)\n",
    "    for key in keys_2:\n",
    "        print(key, '->',keys_2[key])"
   ]
  },
  {
   "cell_type": "code",
   "execution_count": 110,
   "metadata": {},
   "outputs": [
    {
     "name": "stdout",
     "output_type": "stream",
     "text": [
      "===================================\n",
      "id -> https://openalex.org/I185261750\n",
      "ror -> https://ror.org/03dbr7087\n",
      "display_name -> University of Toronto\n",
      "relevance_score -> 187891.28\n",
      "country_code -> CA\n",
      "type -> education\n",
      "homepage_url -> http://www.utoronto.ca/\n",
      "image_url -> https://upload.wikimedia.org/wikipedia/en/0/04/Utoronto_coa.svg\n",
      "image_thumbnail_url -> https://upload.wikimedia.org/wikipedia/en/thumb/0/04/Utoronto_coa.svg/100px-Utoronto_coa.svg.png\n",
      "display_name_acronyms -> []\n",
      "display_name_alternatives -> []\n",
      "works_count -> 283055\n",
      "cited_by_count -> 22902599\n",
      "ids -> {'openalex': 'https://openalex.org/I185261750', 'ror': 'https://ror.org/03dbr7087', 'mag': '185261750', 'grid': 'grid.17063.33', 'wikipedia': 'https://en.wikipedia.org/wiki/University%20of%20Toronto', 'wikidata': 'https://www.wikidata.org/wiki/Q180865'}\n",
      "geo -> {'city': 'Toronto', 'geonames_city_id': '6167865', 'region': 'Ontario', 'country_code': 'CA', 'country': 'Canada', 'latitude': 43.661667, 'longitude': -79.395}\n",
      "x_concepts -> [{'id': 'https://openalex.org/C86803240', 'wikidata': 'https://www.wikidata.org/wiki/Q420', 'display_name': 'Biology', 'level': 0, 'score': 63.1}, {'id': 'https://openalex.org/C71924100', 'wikidata': 'https://www.wikidata.org/wiki/Q11190', 'display_name': 'Medicine', 'level': 0, 'score': 56.7}, {'id': 'https://openalex.org/C185592680', 'wikidata': 'https://www.wikidata.org/wiki/Q2329', 'display_name': 'Chemistry', 'level': 0, 'score': 40.8}, {'id': 'https://openalex.org/C121332964', 'wikidata': 'https://www.wikidata.org/wiki/Q413', 'display_name': 'Physics', 'level': 0, 'score': 38.8}, {'id': 'https://openalex.org/C126322002', 'wikidata': 'https://www.wikidata.org/wiki/Q11180', 'display_name': 'Internal medicine', 'level': 1, 'score': 36.8}, {'id': 'https://openalex.org/C41008148', 'wikidata': 'https://www.wikidata.org/wiki/Q21198', 'display_name': 'Computer science', 'level': 0, 'score': 34.2}, {'id': 'https://openalex.org/C15744967', 'wikidata': 'https://www.wikidata.org/wiki/Q9418', 'display_name': 'Psychology', 'level': 0, 'score': 34.0}, {'id': 'https://openalex.org/C33923547', 'wikidata': 'https://www.wikidata.org/wiki/Q395', 'display_name': 'Mathematics', 'level': 0, 'score': 32.6}, {'id': 'https://openalex.org/C54355233', 'wikidata': 'https://www.wikidata.org/wiki/Q7162', 'display_name': 'Genetics', 'level': 1, 'score': 31.3}, {'id': 'https://openalex.org/C55493867', 'wikidata': 'https://www.wikidata.org/wiki/Q7094', 'display_name': 'Biochemistry', 'level': 1, 'score': 29.4}, {'id': 'https://openalex.org/C127413603', 'wikidata': 'https://www.wikidata.org/wiki/Q11023', 'display_name': 'Engineering', 'level': 0, 'score': 26.9}, {'id': 'https://openalex.org/C142724271', 'wikidata': 'https://www.wikidata.org/wiki/Q7208', 'display_name': 'Pathology', 'level': 1, 'score': 24.5}, {'id': 'https://openalex.org/C62520636', 'wikidata': 'https://www.wikidata.org/wiki/Q944', 'display_name': 'Quantum mechanics', 'level': 1, 'score': 22.4}]\n",
      "works_api_url -> https://api.openalex.org/works?filter=institutions.id:I185261750\n",
      "updated_date -> 2022-09-03T17:58:43.521245\n",
      "created_date -> 2016-06-24\n",
      "===================================\n"
     ]
    },
    {
     "ename": "TypeError",
     "evalue": "list indices must be integers or slices, not str",
     "output_type": "error",
     "traceback": [
      "\u001b[1;31m---------------------------------------------------------------------------\u001b[0m",
      "\u001b[1;31mTypeError\u001b[0m                                 Traceback (most recent call last)",
      "\u001b[1;32mC:\\Users\\SANDH_~1\\AppData\\Local\\Temp/ipykernel_18008/2525930880.py\u001b[0m in \u001b[0;36m<module>\u001b[1;34m\u001b[0m\n\u001b[1;32m----> 1\u001b[1;33m \u001b[0mtest_func\u001b[0m\u001b[1;33m(\u001b[0m\u001b[1;34m'university of toronto'\u001b[0m\u001b[1;33m,\u001b[0m \u001b[1;34m'university of waterloo'\u001b[0m\u001b[1;33m)\u001b[0m\u001b[1;33m\u001b[0m\u001b[1;33m\u001b[0m\u001b[0m\n\u001b[0m",
      "\u001b[1;32mC:\\Users\\SANDH_~1\\AppData\\Local\\Temp/ipykernel_18008/2887989458.py\u001b[0m in \u001b[0;36mtest_func\u001b[1;34m(name_1, name_2)\u001b[0m\n\u001b[0;32m     20\u001b[0m     \u001b[0mprint\u001b[0m\u001b[1;33m(\u001b[0m\u001b[1;34m'='\u001b[0m\u001b[1;33m*\u001b[0m\u001b[1;36m35\u001b[0m\u001b[1;33m)\u001b[0m\u001b[1;33m\u001b[0m\u001b[1;33m\u001b[0m\u001b[0m\n\u001b[0;32m     21\u001b[0m     \u001b[1;32mfor\u001b[0m \u001b[0mkey\u001b[0m \u001b[1;32min\u001b[0m \u001b[0mkeys_2\u001b[0m\u001b[1;33m:\u001b[0m\u001b[1;33m\u001b[0m\u001b[1;33m\u001b[0m\u001b[0m\n\u001b[1;32m---> 22\u001b[1;33m         \u001b[0mprint\u001b[0m\u001b[1;33m(\u001b[0m\u001b[0mkey\u001b[0m\u001b[1;33m,\u001b[0m \u001b[1;34m'->'\u001b[0m\u001b[1;33m,\u001b[0m\u001b[0mkeys_2\u001b[0m\u001b[1;33m[\u001b[0m\u001b[0mkey\u001b[0m\u001b[1;33m]\u001b[0m\u001b[1;33m)\u001b[0m\u001b[1;33m\u001b[0m\u001b[1;33m\u001b[0m\u001b[0m\n\u001b[0m",
      "\u001b[1;31mTypeError\u001b[0m: list indices must be integers or slices, not str"
     ]
    }
   ],
   "source": [
    "test_func('university of toronto', 'university of waterloo')"
   ]
  },
  {
   "cell_type": "code",
   "execution_count": null,
   "metadata": {},
   "outputs": [],
   "source": []
  }
 ],
 "metadata": {
  "kernelspec": {
   "display_name": "Python 3.8.12 ('main_env1')",
   "language": "python",
   "name": "python3"
  },
  "language_info": {
   "codemirror_mode": {
    "name": "ipython",
    "version": 3
   },
   "file_extension": ".py",
   "mimetype": "text/x-python",
   "name": "python",
   "nbconvert_exporter": "python",
   "pygments_lexer": "ipython3",
   "version": "3.8.12"
  },
  "orig_nbformat": 4,
  "vscode": {
   "interpreter": {
    "hash": "b719890b3c769ab08ff18901591167cccb1fa09ee46a540c961e8deed66fd577"
   }
  }
 },
 "nbformat": 4,
 "nbformat_minor": 2
}
